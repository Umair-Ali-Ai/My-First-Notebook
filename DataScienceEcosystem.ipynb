{
 "cells": [
  {
   "cell_type": "markdown",
   "id": "df4b4313-b7f1-4089-bd51-d2e43eadbbf8",
   "metadata": {},
   "source": [
    "# Data Science Tools and Ecosystem"
   ]
  },
  {
   "cell_type": "markdown",
   "id": "17888b1c-6e91-49ef-a6db-a5706c10cf07",
   "metadata": {},
   "source": [
    "In this notebook, Data Science Tools and Ecosystem are summarized."
   ]
  },
  {
   "cell_type": "markdown",
   "id": "88a85286-d81b-414b-9013-1240a058cf8c",
   "metadata": {},
   "source": [
    "**Objectives**\n",
    "-Languages of Data Science\n",
    "-Libraries for Data Science\n",
    "-Tools\n",
    "-Multiplication and Addition\n",
    "-Conversion of Minutes to hours\n"
   ]
  },
  {
   "cell_type": "markdown",
   "id": "80ef39db-64b4-4c8a-8f02-3712a68511b4",
   "metadata": {},
   "source": [
    "Some of the popular languages that Data Scientists use are:\n",
    "1. Python\n",
    "2. R\n",
    "3. Scala\n",
    "4. Java"
   ]
  },
  {
   "cell_type": "markdown",
   "id": "6afba939-33fc-4ba2-92e4-e29bc2160b3d",
   "metadata": {},
   "source": [
    "Some of the commonly used libraries used by Data Scientists include:\n",
    "1. Numpy\n",
    "2. Matplotlib\n",
    "3. ggplot\n",
    "4. Seaborn\n",
    "5. Pandas"
   ]
  },
  {
   "cell_type": "markdown",
   "id": "c48cce1f-e729-4f19-948c-d25e459779d6",
   "metadata": {},
   "source": [
    "|Data Science Tools|\n",
    "|------------------|\n",
    "|VS Code|\n",
    "|R Studio|\n",
    "|Apache|\n",
    "|Hadoop|\n",
    "|Jupyter Notebook|\n",
    "|Jupyter Lab|\n"
   ]
  },
  {
   "cell_type": "markdown",
   "id": "280eaabb-307d-4a3b-935b-52df06e034a8",
   "metadata": {},
   "source": [
    "### Below are a few examples of evaluating arithmetic expressions in Python"
   ]
  },
  {
   "cell_type": "code",
   "execution_count": 10,
   "id": "6f984f68-3df3-4022-81f2-879286f83c8d",
   "metadata": {},
   "outputs": [
    {
     "data": {
      "text/plain": [
       "17"
      ]
     },
     "execution_count": 10,
     "metadata": {},
     "output_type": "execute_result"
    }
   ],
   "source": [
    "# This a simple arithmetic expression to mutiply then add integers\n",
    "(3*4)+5\n"
   ]
  },
  {
   "cell_type": "code",
   "execution_count": 12,
   "id": "0bf20092-c3ab-45ea-9769-a42221e4ab95",
   "metadata": {},
   "outputs": [
    {
     "data": {
      "text/plain": [
       "3.3333333333333335"
      ]
     },
     "execution_count": 12,
     "metadata": {},
     "output_type": "execute_result"
    }
   ],
   "source": [
    "# This will convert 200 minutes to hours by diving by 60\n",
    "200/60"
   ]
  },
  {
   "cell_type": "markdown",
   "id": "606f2ac2-8d1f-4882-8a95-e732390cb256",
   "metadata": {},
   "source": [
    "## Author\n",
    "Umair Ali"
   ]
  },
  {
   "cell_type": "code",
   "execution_count": null,
   "id": "fab60c2b-bdab-4183-a2c3-5eaba2ccb3a6",
   "metadata": {},
   "outputs": [],
   "source": []
  }
 ],
 "metadata": {
  "kernelspec": {
   "display_name": "Python 3 (ipykernel)",
   "language": "python",
   "name": "python3"
  },
  "language_info": {
   "codemirror_mode": {
    "name": "ipython",
    "version": 3
   },
   "file_extension": ".py",
   "mimetype": "text/x-python",
   "name": "python",
   "nbconvert_exporter": "python",
   "pygments_lexer": "ipython3",
   "version": "3.12.4"
  }
 },
 "nbformat": 4,
 "nbformat_minor": 5
}
